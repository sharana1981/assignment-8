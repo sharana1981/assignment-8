{
 "cells": [
  {
   "cell_type": "raw",
   "id": "c66fae93",
   "metadata": {},
   "source": [
    "1) Python standard library doesnot included with pyinputplus we should install it separately using PIP\n",
    "\n",
    "2)Pyinputplus is commonly imported with import pyinputplus as pypi because pyinputplus is installed separately using pip so while using pyinputplus we should import pyinputplus.\n",
    "\n",
    "3)inputint() only accepts the input type of integer. inputfloat() accepts the input type of float. If any other type of input is given the function executes again untill the fair input is given.\n",
    "\n",
    "4)by importing  Pyinputplus  and using inputint() function  and setting a limit min=0 and max=99 .we can ensure that user enters only whole "
   ]
  },
  {
   "cell_type": "code",
   "execution_count": 22,
   "id": "aa5aecdb",
   "metadata": {},
   "outputs": [],
   "source": [
    "import pyinputplus as pyip"
   ]
  },
  {
   "cell_type": "code",
   "execution_count": 29,
   "id": "626374eb",
   "metadata": {},
   "outputs": [
    {
     "name": "stdout",
     "output_type": "stream",
     "text": [
      "00\n",
      "0\n"
     ]
    }
   ],
   "source": [
    "import pyinputplus as pyip\n",
    "inp=pyip.inputInt(min=0,max=99)\n",
    "print(inp)"
   ]
  },
  {
   "cell_type": "raw",
   "id": "1db06b95",
   "metadata": {},
   "source": [
    "5) We use allowregex to validate the input if given input is present in the allowregex expression it will accept the input.\n",
    "we use blockregex to validate the input if given input is present in the block regex expression it will no accept the input"
   ]
  },
  {
   "cell_type": "code",
   "execution_count": 51,
   "id": "d8d07064",
   "metadata": {},
   "outputs": [
    {
     "name": "stdout",
     "output_type": "stream",
     "text": [
      "6\n"
     ]
    }
   ],
   "source": [
    "#6\n",
    "import pyinputplus as pyip\n",
    "inp=pyip.inputStr(limit=3)"
   ]
  },
  {
   "cell_type": "code",
   "execution_count": 55,
   "id": "d5dc87af",
   "metadata": {},
   "outputs": [
    {
     "name": "stdout",
     "output_type": "stream",
     "text": [
      "\n",
      "Blank values are not allowed.\n",
      "\n",
      "Blank values are not allowed.\n",
      "\n",
      "Blank values are not allowed.\n"
     ]
    }
   ],
   "source": [
    "#7)\n",
    "import pyinputplus as pyip\n",
    "inp=pyip.inputStr(limit=3,default=\"hello\")"
   ]
  },
  {
   "cell_type": "code",
   "execution_count": null,
   "id": "22703d91",
   "metadata": {},
   "outputs": [],
   "source": []
  }
 ],
 "metadata": {
  "kernelspec": {
   "display_name": "Python 3 (ipykernel)",
   "language": "python",
   "name": "python3"
  },
  "language_info": {
   "codemirror_mode": {
    "name": "ipython",
    "version": 3
   },
   "file_extension": ".py",
   "mimetype": "text/x-python",
   "name": "python",
   "nbconvert_exporter": "python",
   "pygments_lexer": "ipython3",
   "version": "3.9.12"
  }
 },
 "nbformat": 4,
 "nbformat_minor": 5
}
